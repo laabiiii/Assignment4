{
  "nbformat": 4,
  "nbformat_minor": 0,
  "metadata": {
    "colab": {
      "provenance": [],
      "authorship_tag": "ABX9TyNXiThxnCOHrXggXPGj52lB",
      "include_colab_link": true
    },
    "kernelspec": {
      "name": "python3",
      "display_name": "Python 3"
    },
    "language_info": {
      "name": "python"
    }
  },
  "cells": [
    {
      "cell_type": "markdown",
      "metadata": {
        "id": "view-in-github",
        "colab_type": "text"
      },
      "source": [
        "<a href=\"https://colab.research.google.com/github/laabiiii/Assignment4/blob/main/02_intermediate.ipynb\" target=\"_parent\"><img src=\"https://colab.research.google.com/assets/colab-badge.svg\" alt=\"Open In Colab\"/></a>"
      ]
    },
    {
      "cell_type": "code",
      "execution_count": null,
      "metadata": {
        "colab": {
          "base_uri": "https://localhost:8080/"
        },
        "id": "6BGijcYlhbFA",
        "outputId": "1403c400-2bec-4355-a1e2-4081d2655b62"
      },
      "outputs": [
        {
          "output_type": "stream",
          "name": "stdout",
          "text": [
            "handout/high low game\n",
            "Welcome to the high low game\n",
            "****************************\n",
            "Round 1\n",
            "Your number is 44\n",
            "Do you think your number is 'higher' or 'lower' than the computer's number? higher\n",
            "That's incorrect. The computer's number was 55\n",
            "Your score is now 0\n",
            "\n",
            "Round 2\n",
            "Your number is 52\n",
            "Do you think your number is 'higher' or 'lower' than the computer's number? lower\n",
            "You were right! The computer's number was 94\n",
            "Your score is now 1\n",
            "\n",
            "Round 3\n",
            "Your number is 52\n",
            "Do you think your number is 'higher' or 'lower' than the computer's number? higher\n",
            "That's incorrect. The computer's number was 55\n",
            "Your score is now 1\n",
            "\n",
            "Round 4\n",
            "Your number is 43\n",
            "Do you think your number is 'higher' or 'lower' than the computer's number? lower\n",
            "That's incorrect. The computer's number was 5\n",
            "Your score is now 1\n",
            "\n",
            "Round 5\n",
            "Your number is 14\n",
            "Do you think your number is 'higher' or 'lower' than the computer's number? \n",
            "That's incorrect. The computer's number was 36\n",
            "Your score is now 1\n",
            "\n",
            "Thanks for playing!\n"
          ]
        }
      ],
      "source": [
        "import random\n",
        "\n",
        "print(\"handout/high low game\")\n",
        "\n",
        "rounds = 5\n",
        "\n",
        "def main():\n",
        "    print(\"Welcome to the high low game\")\n",
        "    print(\"****************************\")\n",
        "\n",
        "    your_score = 0\n",
        "\n",
        "    for i in range(rounds):\n",
        "        print(\"Round\", i + 1)\n",
        "\n",
        "        computer_number = random.randint(1, 100)\n",
        "        your_number = random.randint(1, 100)\n",
        "        print(\"Your number is\", your_number)\n",
        "\n",
        "        choice = input(\"Do you think your number is 'higher' or 'lower' than the computer's number? \").lower()\n",
        "\n",
        "        higher_and_correct = choice == \"higher\" and your_number > computer_number\n",
        "        lower_and_correct = choice == \"lower\" and your_number < computer_number\n",
        "\n",
        "        if higher_and_correct or lower_and_correct:\n",
        "            print(\"You were right! The computer's number was\", computer_number)\n",
        "            your_score += 1\n",
        "        else:\n",
        "            print(\"That's incorrect. The computer's number was\", computer_number)\n",
        "\n",
        "        print(\"Your score is now\", your_score)\n",
        "        print()\n",
        "\n",
        "    print(\"Thanks for playing!\")\n",
        "\n",
        "if __name__ == \"__main__\":\n",
        "    main()\n",
        "\n"
      ]
    },
    {
      "cell_type": "code",
      "source": [
        "def main():\n",
        "    print(\"Planetary Weight Calculator\")\n",
        "    print(\"***************************\")\n",
        "\n",
        "    earth_weight = float(input(\"Enter your weight on Earth (kg): \"))\n",
        "\n",
        "    gravity_ratios = {\n",
        "        \"Mercury\": 0.38,\n",
        "        \"Venus\": 0.91,\n",
        "        \"Mars\": 0.38,\n",
        "        \"Jupiter\": 2.34,\n",
        "        \"Saturn\": 0.93,\n",
        "        \"Uranus\": 0.92,\n",
        "        \"Neptune\": 1.19\n",
        "    }\n",
        "\n",
        "    print(\"\\nSelect a planet:\")\n",
        "    for planet in gravity_ratios:\n",
        "        print(f'- {planet}')\n",
        "\n",
        "    planet_choice = input(\"Enter the name of a planet: \").title()\n",
        "\n",
        "    if planet_choice in gravity_ratios:\n",
        "        new_weight = earth_weight * gravity_ratios[planet_choice]\n",
        "        print(f'\\nYour weight on {planet_choice} is {new_weight:.2f} kg.')\n",
        "    else:\n",
        "        print(\"\\nInvalid planet choice.\")\n",
        "\n",
        "if __name__ == \"__main__\":\n",
        "    main()\n"
      ],
      "metadata": {
        "colab": {
          "base_uri": "https://localhost:8080/"
        },
        "id": "CIBtg8FsJfIm",
        "outputId": "fa241b33-9601-43e3-c77b-d585b50ffed4"
      },
      "execution_count": null,
      "outputs": [
        {
          "output_type": "stream",
          "name": "stdout",
          "text": [
            "Planetary Weight Calculator\n",
            "***************************\n",
            "Enter your weight on Earth (kg): 23\n",
            "\n",
            "Select a planet:\n",
            "- Mercury\n",
            "- Venus\n",
            "- Mars\n",
            "- Jupiter\n",
            "- Saturn\n",
            "- Uranus\n",
            "- Neptune\n",
            "Enter the name of a planet: mars\n",
            "\n",
            "Your weight on Mars is 8.74 kg.\n"
          ]
        }
      ]
    },
    {
      "cell_type": "code",
      "source": [
        "\n",
        "def access_element(my_list, index):\n",
        "    \"\"\"Returns the element at the specified index, or an error message if out of range.\"\"\"\n",
        "    if 0 <= index < len(my_list):\n",
        "        return f'Element at index {index}: {my_list[index]}'\n",
        "    return \"Index out of range\"\n",
        "\n",
        "def modify_element(my_list, index, new_value):\n",
        "    \"\"\"Modifies the element at the specified index with the new value.\"\"\"\n",
        "    if 0 <= index < len(my_list):\n",
        "        old_value = my_list[index]\n",
        "        my_list[index] = new_value\n",
        "        return f'Element at index {index} modified from {old_value} to {new_value}'\n",
        "    return \"Index out of range\"\n",
        "\n",
        "def slice_list(my_list, start, end):\n",
        "    \"\"\"Returns a new list containing the elements from the start index to the end index (exclusive).\"\"\"\n",
        "    if 0 <= start <= end <= len(my_list):\n",
        "        return f'Sliced list: {my_list[start:end]}'\n",
        "    return \"Invalid slice indices\"\n",
        "\n",
        "def list_game():\n",
        "    print(\"List and Dicts\")\n",
        "    my_list = [\"apple\", \"banana\", \"mango\", \"orange\", \"peach\"]\n",
        "\n",
        "    while True:\n",
        "        print(\"\\nCurrent list:\", my_list)\n",
        "        print(\"Select an operation:\")\n",
        "        print(\"1. Access Element\")\n",
        "        print(\"2. Modify Element\")\n",
        "        print(\"3. Slice List\")\n",
        "        print(\"4. Exit\")\n",
        "\n",
        "        choice = input(\"Enter your choice (1-4): \")\n",
        "\n",
        "        if choice == \"1\":\n",
        "            try:\n",
        "                index = int(input(\"Enter index to access: \"))\n",
        "                print(access_element(my_list, index))\n",
        "            except ValueError:\n",
        "                print(\"Invalid input. Please enter a number.\")\n",
        "        elif choice == \"2\":\n",
        "            try:\n",
        "                index = int(input(\"Enter the index of the element you want to modify: \"))\n",
        "                new_value = input(\"Enter the new value: \")\n",
        "                print(modify_element(my_list, index, new_value))\n",
        "            except ValueError:\n",
        "                print(\"Invalid input. Please enter a number.\")\n",
        "        elif choice == \"3\":\n",
        "            try:\n",
        "                start = int(input(\"Enter the start index for slicing: \"))\n",
        "                end = int(input(\"Enter the end index for the slice: \"))\n",
        "                print(slice_list(my_list, start, end))\n",
        "            except ValueError:\n",
        "                print(\"Invalid input. Please enter numbers.\")\n",
        "        elif choice == \"4\":\n",
        "            print(\"Exiting the game. Thanks for playing.\")\n",
        "            break\n",
        "        else:\n",
        "            print(\"Invalid choice. Please select a valid option (1-4).\")\n",
        "\n",
        "if __name__ == \"__main__\":\n",
        "    list_game()\n"
      ],
      "metadata": {
        "colab": {
          "base_uri": "https://localhost:8080/"
        },
        "id": "DZV59pO3hVbo",
        "outputId": "1a7c7d79-eb37-4a79-9028-b5e149af7010"
      },
      "execution_count": 1,
      "outputs": [
        {
          "output_type": "stream",
          "name": "stdout",
          "text": [
            "List and Dicts\n",
            "\n",
            "Current list: ['apple', 'banana', 'mango', 'orange', 'peach']\n",
            "Select an operation:\n",
            "1. Access Element\n",
            "2. Modify Element\n",
            "3. Slice List\n",
            "4. Exit\n",
            "Enter your choice (1-4): 1\n",
            "Enter index to access: 2\n",
            "Element at index 2: mango\n",
            "\n",
            "Current list: ['apple', 'banana', 'mango', 'orange', 'peach']\n",
            "Select an operation:\n",
            "1. Access Element\n",
            "2. Modify Element\n",
            "3. Slice List\n",
            "4. Exit\n",
            "Enter your choice (1-4): 3\n",
            "Enter the start index for slicing: 55\n",
            "Enter the end index for the slice: 66\n",
            "Invalid slice indices\n",
            "\n",
            "Current list: ['apple', 'banana', 'mango', 'orange', 'peach']\n",
            "Select an operation:\n",
            "1. Access Element\n",
            "2. Modify Element\n",
            "3. Slice List\n",
            "4. Exit\n",
            "Enter your choice (1-4): 4\n",
            "Exiting the game. Thanks for playing.\n"
          ]
        }
      ]
    }
  ]
}