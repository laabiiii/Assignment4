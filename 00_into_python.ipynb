{
  "nbformat": 4,
  "nbformat_minor": 0,
  "metadata": {
    "colab": {
      "provenance": [],
      "authorship_tag": "ABX9TyMBkzNh7HlBtnvE3w9y6NTV",
      "include_colab_link": true
    },
    "kernelspec": {
      "name": "python3",
      "display_name": "Python 3"
    },
    "language_info": {
      "name": "python"
    }
  },
  "cells": [
    {
      "cell_type": "markdown",
      "metadata": {
        "id": "view-in-github",
        "colab_type": "text"
      },
      "source": [
        "<a href=\"https://colab.research.google.com/github/laabiiii/Assignment4/blob/main/00_into_python.ipynb\" target=\"_parent\"><img src=\"https://colab.research.google.com/assets/colab-badge.svg\" alt=\"Open In Colab\"/></a>"
      ]
    },
    {
      "cell_type": "code",
      "execution_count": null,
      "metadata": {
        "colab": {
          "base_uri": "https://localhost:8080/"
        },
        "id": "UYZSoRYkccrP",
        "outputId": "fa32c9a9-0375-40ba-f94f-c5f63bb94201"
      },
      "outputs": [
        {
          "output_type": "stream",
          "name": "stdout",
          "text": [
            "01_add_two_numbers\n",
            "This application for add two numbers\n",
            "Enter your first number15\n",
            "Enter your second number5\n",
            "The total sum of 15 and 5 is 155\n"
          ]
        }
      ],
      "source": [
        "print(\"01_add_two_numbers\")\n",
        "\n",
        "def add():\n",
        "  print(\"This application for add two numbers\")\n",
        "  first_number= input(\"Enter your first number\")\n",
        "  second_number= input(\"Enter your second number\")\n",
        "  total= int(first_number + second_number)\n",
        "  print(f'The total sum of {first_number} and {second_number} is {total}')\n",
        "\n",
        "if __name__ == \"__main__\":\n",
        "  add()\n"
      ]
    },
    {
      "cell_type": "code",
      "source": [
        "print(\"02_agrement_bot\")\n",
        "\n",
        "def bot():\n",
        "  animal= str(input(\"what is your favorite animal?\"))\n",
        "  print(f'My favorite animal is also {animal}')\n",
        "\n",
        "if __name__ == \"__main__\":\n",
        "  bot()"
      ],
      "metadata": {
        "colab": {
          "base_uri": "https://localhost:8080/"
        },
        "id": "i_bo8ICJf7b0",
        "outputId": "3c5b586d-4547-43d4-c258-d912b6bd334c"
      },
      "execution_count": null,
      "outputs": [
        {
          "output_type": "stream",
          "name": "stdout",
          "text": [
            "02_agrement_bot\n",
            "what is your favorite animal?Dog\n",
            "My favorite animal is also Dog\n"
          ]
        }
      ]
    },
    {
      "cell_type": "code",
      "source": [
        "print(\"03_fahrenheit_to_celsius\")\n",
        "\n",
        "def temp():\n",
        "  print(\"This code for converting Fahrenheit to celsius\")\n",
        "  Fahrenheit_degree= float(input(\"Enter your Fahrenhit degree\"))\n",
        "  Celsius_degree= (Fahrenheit_degree - 32) * 5.0/9.0\n",
        "  print(f'Tempreture {Fahrenheit_degree}f = {Celsius_degree}c')\n",
        "\n",
        "if __name__ == \"__main__\":\n",
        "  temp()"
      ],
      "metadata": {
        "colab": {
          "base_uri": "https://localhost:8080/"
        },
        "id": "BjR0eaenjU17",
        "outputId": "db33b90c-f0cd-4ebd-f335-5953f37e2a5d"
      },
      "execution_count": null,
      "outputs": [
        {
          "output_type": "stream",
          "name": "stdout",
          "text": [
            "03_fahrenheit_to_celsius\n",
            "This code for converting Fahrenheit to celsius\n",
            "Enter your Fahrenhit degree54\n",
            "Tempreture 54.0f = 12.222222222222221c\n"
          ]
        }
      ]
    },
    {
      "cell_type": "code",
      "source": [
        "print(\"04_how_old_are_they\")\n",
        "\n",
        "def add_ages():\n",
        "  Anthon:int = 21\n",
        "  Beth:int = Anthon + 6\n",
        "  Chen:int = Beth + 20\n",
        "  Drew:int = Chen + Anthon\n",
        "  Ethon:int = Chen\n",
        "\n",
        "  print(\"Anthon is \" + str(Anthon))\n",
        "  print(\"Beth is \" + str(Beth))\n",
        "  print(\"Chen is \" + str(Chen))\n",
        "  print(\"Drew is \" + str(Drew))\n",
        "  print(\"Ethon is \" + str(Ethon))\n",
        "\n",
        "if __name__ == \"__main__\":\n",
        "  add_ages()"
      ],
      "metadata": {
        "colab": {
          "base_uri": "https://localhost:8080/"
        },
        "id": "MrZvUOcAnFR7",
        "outputId": "372a3007-1426-498a-92a4-343028646c92"
      },
      "execution_count": null,
      "outputs": [
        {
          "output_type": "stream",
          "name": "stdout",
          "text": [
            "04_how_old_are_they\n",
            "Anthon is 21\n",
            "Beth is 27\n",
            "Chen is 47\n",
            "Drew is 68\n",
            "Ethon is 47\n"
          ]
        }
      ]
    },
    {
      "cell_type": "code",
      "source": [
        "print(\"05_triangle_perimeter\")\n",
        "\n",
        "def triangle():\n",
        "  print(\"This code is parameter of triangle sides\")\n",
        "  side1: float = float(input(\"Enter your first side number of triangle\"))\n",
        "  side2: float = float(input(\"Enter your second side number of triangle\"))\n",
        "  side3: float = float(input(\"Enter your third side number of triangle\"))\n",
        "  total: float = float(side1 + side2 + side3)\n",
        "  print(f'The Parameter of {side1}, {side2} and {side3} is {total}')\n",
        "\n",
        "if __name__ == \"__main__\":\n",
        "  triangle()"
      ],
      "metadata": {
        "colab": {
          "base_uri": "https://localhost:8080/"
        },
        "id": "TVmYkzFdpxLf",
        "outputId": "c4a1e0d1-e53c-4811-effb-9b9703035bb8"
      },
      "execution_count": null,
      "outputs": [
        {
          "output_type": "stream",
          "name": "stdout",
          "text": [
            "05_triangle_perimeter\n",
            "This code is parameter sum of triangle sides\n",
            "Enter your first side number of triangle88\n",
            "Enter your second side number of triangle88\n",
            "Enter your third side number of triangle88\n",
            "The Parameter of 88.0, 88.0 and 88.0 is 264.0\n"
          ]
        }
      ]
    },
    {
      "cell_type": "code",
      "source": [
        "print(\"06_square_number\")\n",
        "\n",
        "def square():\n",
        "  print(\"This code is about square of given number\")\n",
        "  num1:int = int(input(\"Enter any number and i will give you square value:\"))\n",
        "  print(f'The square of {num1} is {num1 ** 2}')\n",
        "\n",
        "if __name__ == \"__main__\":\n",
        "  square()\n"
      ],
      "metadata": {
        "id": "g1PoqlBlr4GH",
        "colab": {
          "base_uri": "https://localhost:8080/"
        },
        "outputId": "8b90a128-efb7-4d4c-f9c3-8e0dc98388c4"
      },
      "execution_count": null,
      "outputs": [
        {
          "output_type": "stream",
          "name": "stdout",
          "text": [
            "06_square_number\n",
            "This code is about square of given number\n"
          ]
        }
      ]
    }
  ]
}