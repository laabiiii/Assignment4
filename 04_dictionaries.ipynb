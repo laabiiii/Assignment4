{
  "cells": [
    {
      "cell_type": "markdown",
      "metadata": {
        "id": "view-in-github",
        "colab_type": "text"
      },
      "source": [
        "<a href=\"https://colab.research.google.com/github/laabiiii/Assignment4/blob/main/04_dictionaries.ipynb\" target=\"_parent\"><img src=\"https://colab.research.google.com/assets/colab-badge.svg\" alt=\"Open In Colab\"/></a>"
      ]
    },
    {
      "cell_type": "code",
      "execution_count": null,
      "metadata": {
        "colab": {
          "base_uri": "https://localhost:8080/"
        },
        "id": "yLjkDyEQ2a8y",
        "outputId": "31fc0b4d-663f-4c12-d73c-842f099e174b"
      },
      "outputs": [
        {
          "name": "stdout",
          "output_type": "stream",
          "text": [
            "00_count_nums\n",
            "Enter a number (or 'Exit' to quit): 77\n",
            "Enter a number (or 'Exit' to quit): 88\n",
            "Enter a number (or 'Exit' to quit): 99\n",
            "Enter a number (or 'Exit' to quit): 00\n",
            "Enter a number (or 'Exit' to quit): 77\n",
            "Enter a number (or 'Exit' to quit): 66\n",
            "Enter a number (or 'Exit' to quit): 88\n",
            "Enter a number (or 'Exit' to quit): 99\n",
            "Enter a number (or 'Exit' to quit): 990\n",
            "Enter a number (or 'Exit' to quit): exit\n",
            "\n",
            "Number Count:\n",
            "77 appears 2 times\n",
            "88 appears 2 times\n",
            "99 appears 2 times\n",
            "0 appears 1 times\n",
            "66 appears 1 times\n",
            "990 appears 1 times\n"
          ]
        }
      ],
      "source": [
        "print(\"00_count_nums\")\n",
        "\n",
        "def count_number():\n",
        "    count_dict = {}\n",
        "\n",
        "    while True:\n",
        "        user_input = input(\"Enter a number (or 'Exit' to quit): \")\n",
        "        if user_input.lower() == 'exit':\n",
        "            break\n",
        "        elif user_input.isdigit():\n",
        "            num = int(user_input)\n",
        "            count_dict[num] = count_dict.get(num, 0) + 1\n",
        "        else:\n",
        "            print(\"Invalid input. Please enter a valid number.\")\n",
        "\n",
        "    return count_dict\n",
        "\n",
        "def display_count(count_dict):\n",
        "    print(\"\\nNumber Count:\")\n",
        "    for key, value in count_dict.items():\n",
        "        print(f\"{key} appears {value} times\")\n",
        "\n",
        "if __name__ == \"__main__\":\n",
        "    counts = count_number()\n",
        "    display_count(counts)\n"
      ]
    },
    {
      "cell_type": "code",
      "execution_count": null,
      "metadata": {
        "colab": {
          "background_save": true,
          "base_uri": "https://localhost:8080/"
        },
        "id": "qDAwpEBH2Ke1",
        "outputId": "42df37bb-8e52-4788-d96a-a805e9a3f4ed"
      },
      "outputs": [
        {
          "name": "stdout",
          "output_type": "stream",
          "text": [
            "01_phonebook\n",
            "\n",
            "Phonebook Menu:\n",
            "1. Add Contact\n",
            "2. Search Contact\n",
            "3. Delete Contact\n",
            "4. Display Contacts\n",
            "5. Exit\n",
            "laiba not found in the phonebook\n",
            "\n",
            "Phonebook Menu:\n",
            "1. Add Contact\n",
            "2. Search Contact\n",
            "3. Delete Contact\n",
            "4. Display Contacts\n",
            "5. Exit\n",
            "laiba added to the phonebook\n",
            "\n",
            "Phonebook Menu:\n",
            "1. Add Contact\n",
            "2. Search Contact\n",
            "3. Delete Contact\n",
            "4. Display Contacts\n",
            "5. Exit\n",
            "Invalid choice. Please select a valid option (1-5).\n",
            "\n",
            "Phonebook Menu:\n",
            "1. Add Contact\n",
            "2. Search Contact\n",
            "3. Delete Contact\n",
            "4. Display Contacts\n",
            "5. Exit\n"
          ]
        }
      ],
      "source": [
        "print(\"01_phonebook\")\n",
        "\n",
        "def add_contact(phonebook):\n",
        "    name = input(\"Enter contact name: \")\n",
        "    number = input(\"Enter contact number: \")\n",
        "\n",
        "    if name in phonebook:\n",
        "        print(f'{name} already exists in the phonebook')\n",
        "    else:\n",
        "        phonebook[name] = number\n",
        "        print(f'{name} added to the phonebook')\n",
        "\n",
        "def search_contact(phonebook):\n",
        "    name = input(\"Enter contact name: \")  # <-- this should be 'contact name', not 'number'\n",
        "\n",
        "    if name in phonebook:\n",
        "        print(f'{name} : {phonebook[name]}')\n",
        "    else:\n",
        "        print(f'{name} not found in the phonebook')\n",
        "\n",
        "def delete_contact(phonebook):\n",
        "    name = input(\"Enter contact name to delete: \")\n",
        "\n",
        "    if name in phonebook:\n",
        "        del phonebook[name]\n",
        "        print(f'{name} deleted from the phonebook')\n",
        "    else:\n",
        "        print(f'{name} not found in the phonebook')\n",
        "\n",
        "def display_contacts(phonebook):\n",
        "    if phonebook:\n",
        "        print(\"\\nPhonebook:\")\n",
        "        for name, number in phonebook.items():\n",
        "            print(f'{name} : {number}')\n",
        "    else:\n",
        "        print(\"Phonebook is empty\")\n",
        "\n",
        "if __name__ == \"__main__\":\n",
        "    phonebook = {}\n",
        "\n",
        "    while True:\n",
        "        print(\"\\nPhonebook Menu:\")\n",
        "        print(\"1. Add Contact\")\n",
        "        print(\"2. Search Contact\")\n",
        "        print(\"3. Delete Contact\")\n",
        "        print(\"4. Display Contacts\")\n",
        "        print(\"5. Exit\")\n",
        "\n",
        "        choice = input(\"Enter your choice (1-5): \")\n",
        "        if choice == '1':\n",
        "            add_contact(phonebook)\n",
        "        elif choice == '2':\n",
        "            search_contact(phonebook)\n",
        "        elif choice == '3':\n",
        "            delete_contact(phonebook)\n",
        "        elif choice == '4':\n",
        "            display_contacts(phonebook)\n",
        "        elif choice == '5':\n",
        "            print(\"Exiting phonebook. Goodbye!\")\n",
        "            break\n",
        "        else:\n",
        "            print(\"Invalid choice. Please select a valid option (1-5).\")\n"
      ]
    },
    {
      "cell_type": "code",
      "execution_count": 1,
      "metadata": {
        "id": "U5e6qA9N45P2",
        "colab": {
          "base_uri": "https://localhost:8080/"
        },
        "outputId": "a027759a-95e6-4a7c-e96d-beaa9eb1fa27"
      },
      "outputs": [
        {
          "output_type": "stream",
          "name": "stdout",
          "text": [
            "02_pop_up_shop\n",
            "How many Apples do you want? 3\n",
            "How many Bananas do you want? 5\n",
            "How many Oranges do you want? 7\n",
            "How many Grapess do you want? 5\n",
            "How many Pineapples do you want? 6\n",
            "How many Kiwis do you want? 7\n",
            "\n",
            "Your total cost is: $98.34\n"
          ]
        }
      ],
      "source": [
        "print(\"02_pop_up_shop\")\n",
        "\n",
        "def calculate_total_cost():\n",
        "    fruits_price = {\n",
        "        \"Apple\": 0.99,\n",
        "        \"Banana\": 0.49,\n",
        "        \"Orange\": 0.79,\n",
        "        \"Grapes\": 1.29,\n",
        "        \"Pineapple\": 2.99,\n",
        "        \"Kiwi\": 9.0\n",
        "    }\n",
        "\n",
        "    total_cost = 0\n",
        "    for fruit, price in fruits_price.items():\n",
        "        while True:\n",
        "            try:\n",
        "                quantity = int(input(f'How many {fruit}s do you want? '))\n",
        "                if quantity < 0:\n",
        "                    print(\"Invalid input. Please enter a non-negative number.\")\n",
        "                    continue\n",
        "                total_cost += price * quantity\n",
        "                break\n",
        "            except ValueError:\n",
        "                print(\"Invalid input. Please enter a valid number.\")\n",
        "\n",
        "    print(f\"\\nYour total cost is: ${total_cost:.2f}\")\n",
        "\n",
        "if __name__ == \"__main__\":\n",
        "    calculate_total_cost()\n"
      ]
    },
    {
      "cell_type": "code",
      "source": [
        "import hashlib\n",
        "\n",
        "print(\"03_powerful_passwords\")\n",
        "\n",
        "def hash_password(password):\n",
        "   return hashlib.sha256(password.encode()).hexdigest()\n",
        "\n",
        "stored_login = {\n",
        "    \"user@example.com\":hash_password(\"password123\"),\n",
        "    \"admin@example.com\":hash_password(\"admin123\")\n",
        "}\n",
        "\n",
        "def login(email,password):\n",
        "  if email in stored_login:\n",
        "   return stored_login[email] == hash_password(password)\n",
        "  return False\n",
        "\n",
        "\n",
        "if __name__ == \"__main__\":\n",
        "  email = input(\"Enter your email: \")\n",
        "  password = input(\"Enter your password: \")\n",
        "\n",
        "  if login(email,password):\n",
        "    print(\"Login successfully\")\n",
        "\n",
        "  else:\n",
        "    print(\"Invalid email and password\")"
      ],
      "metadata": {
        "colab": {
          "base_uri": "https://localhost:8080/"
        },
        "id": "bBBJqal0LAas",
        "outputId": "afa5fd0c-0cda-43ed-dc25-c28181a3a910"
      },
      "execution_count": 7,
      "outputs": [
        {
          "output_type": "stream",
          "name": "stdout",
          "text": [
            "03_powerful_passwords\n",
            "Enter your email: user@example.com\n",
            "Enter your password: password123\n",
            "Login successfully\n"
          ]
        }
      ]
    }
  ],
  "metadata": {
    "colab": {
      "provenance": [],
      "authorship_tag": "ABX9TyML6q/gP5c9kq3Jm5uPO2pk",
      "include_colab_link": true
    },
    "kernelspec": {
      "display_name": "Python 3",
      "name": "python3"
    },
    "language_info": {
      "name": "python"
    }
  },
  "nbformat": 4,
  "nbformat_minor": 0
}