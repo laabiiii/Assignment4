{
  "nbformat": 4,
  "nbformat_minor": 0,
  "metadata": {
    "colab": {
      "provenance": [],
      "authorship_tag": "ABX9TyOj6of8X1zTQS+wEYafnGoo",
      "include_colab_link": true
    },
    "kernelspec": {
      "name": "python3",
      "display_name": "Python 3"
    },
    "language_info": {
      "name": "python"
    }
  },
  "cells": [
    {
      "cell_type": "markdown",
      "metadata": {
        "id": "view-in-github",
        "colab_type": "text"
      },
      "source": [
        "<a href=\"https://colab.research.google.com/github/laabiiii/Assignment4/blob/main/03_if_statements.ipynb\" target=\"_parent\"><img src=\"https://colab.research.google.com/assets/colab-badge.svg\" alt=\"Open In Colab\"/></a>"
      ]
    },
    {
      "cell_type": "code",
      "execution_count": null,
      "metadata": {
        "colab": {
          "base_uri": "https://localhost:8080/"
        },
        "id": "NAFy2ILK7HPh",
        "outputId": "06c55885-0955-4d31-824f-c9dbb8776ce2"
      },
      "outputs": [
        {
          "output_type": "stream",
          "name": "stdout",
          "text": [
            "01_print_events\n",
            "0\n",
            "2\n",
            "4\n",
            "6\n",
            "8\n",
            "10\n",
            "12\n",
            "14\n",
            "16\n",
            "18\n",
            "20\n",
            "22\n",
            "24\n",
            "26\n",
            "28\n",
            "30\n",
            "32\n",
            "34\n",
            "36\n",
            "38\n",
            "40\n",
            "42\n",
            "44\n",
            "46\n",
            "48\n",
            "50\n",
            "52\n",
            "54\n",
            "56\n",
            "58\n",
            "60\n",
            "62\n",
            "64\n",
            "66\n",
            "68\n",
            "70\n",
            "72\n",
            "74\n",
            "76\n",
            "78\n"
          ]
        }
      ],
      "source": [
        "print(\"01_print_events\")\n",
        "\n",
        "def even():\n",
        "  for i in range(40):\n",
        "    even = i * 2\n",
        "    print(even)\n",
        "   #print(\"Here is 20 even numbers are: \",i * 2)\n",
        "\n",
        "if __name__ == \"__main__\":\n",
        "  even()\n"
      ]
    },
    {
      "cell_type": "code",
      "source": [
        "print(\"02_international_voting_age\")\n",
        "\n",
        "Peturksbouipo:int =16\n",
        "Stanlau:int = 25\n",
        "Mayengua:int =48\n",
        "\n",
        "def main():\n",
        "  age:int =int(input(\"How old are you?\"))\n",
        "  if age >= Peturksbouipo:\n",
        "    print(f'Your age is {age}. you are eligible to vote Peturksbouipo')\n",
        "  else:\n",
        "    print(f'Your age is {age}. you are not eligible to vote Peturksbouipo')\n",
        "\n",
        "\n",
        "    if age >= Stanlau:\n",
        "      print(f'Your age is {age}. you are eligible to vote Stanlau')\n",
        "    else:\n",
        "      print(f'Your age is {age}. you are not eligible to vote Stanlau')\n",
        "\n",
        "\n",
        "    if age >= Mayengua:\n",
        "     print(f'Your age is {age}. you are eligible to vote Mayengua')\n",
        "    else:\n",
        "      print(f'Your age is {age}. you are not eligible to vote Mayengua')\n",
        "\n",
        "\n",
        "if __name__ == \"__main__\":\n",
        "  main()"
      ],
      "metadata": {
        "colab": {
          "base_uri": "https://localhost:8080/"
        },
        "id": "D8D77HZj9liC",
        "outputId": "f00b6c77-decb-4cd4-bb37-ab5ccc0e55ec"
      },
      "execution_count": 1,
      "outputs": [
        {
          "output_type": "stream",
          "name": "stdout",
          "text": [
            "02_international_voting_age\n",
            "How old are you?19\n",
            "Your age is 19. you are eligible to vote Peturksbouipo\n"
          ]
        }
      ]
    },
    {
      "cell_type": "code",
      "source": [
        "print(\"03_leap_year\")\n",
        "\n",
        "def leap_year():\n",
        "  year:int =int(input(\"Enter a year: \"))\n",
        "  if (year % 4) == 0:\n",
        "    if (year % 100) == 0:\n",
        "      if (year % 400) == 0:\n",
        "        print(f'{year} is a leap year')\n",
        "      else:\n",
        "        print(f'{year} is not a leap year')\n",
        "    else:\n",
        "      print(f'{year} is not a leap year')\n",
        "  else:\n",
        "    print(f'{year} is not a leap year')\n",
        "\n",
        "if __name__ == \"__main__\":\n",
        "  leap_year()"
      ],
      "metadata": {
        "colab": {
          "base_uri": "https://localhost:8080/"
        },
        "id": "n9yl4OiSJY4z",
        "outputId": "9bcce5c4-54c2-4dfb-ae61-08eefad9425b"
      },
      "execution_count": 3,
      "outputs": [
        {
          "output_type": "stream",
          "name": "stdout",
          "text": [
            "03_leap_year\n",
            "Enter a year: 2021\n",
            "2021 is not a leap year\n"
          ]
        }
      ]
    },
    {
      "cell_type": "code",
      "source": [
        "print(\"04_tall_enough_to_ride\")\n",
        "\n",
        "min_height:int =50\n",
        "\n",
        "def main():\n",
        "  user:int =int(input(\"How tall are you?\"))\n",
        "  if user >= min_height:\n",
        "    print(f'Your height is {user}. You are tall enough to ride')\n",
        "  else:\n",
        "    print(f'Your height is {user}. You are not tall enough to ride')\n",
        "\n",
        "if __name__ == \"__main__\":\n",
        "  main()"
      ],
      "metadata": {
        "colab": {
          "base_uri": "https://localhost:8080/"
        },
        "id": "BEZTG8pCKvC4",
        "outputId": "0d59e568-a9b6-46f8-fc82-5792e8e65d1e"
      },
      "execution_count": 5,
      "outputs": [
        {
          "output_type": "stream",
          "name": "stdout",
          "text": [
            "04_tall_enough_to_ride\n",
            "How tall are you?15\n",
            "Your height is 15. You are not tall enough to ride\n"
          ]
        }
      ]
    },
    {
      "cell_type": "code",
      "source": [
        "import random\n",
        "print(\"05_random_numbers\")\n",
        "\n",
        "def main():\n",
        "  for i in range(10):\n",
        "    num:list[int] = random.randint(1,100)\n",
        "    print(num)\n",
        "\n",
        "if __name__ == \"__main__\":\n",
        "  main()"
      ],
      "metadata": {
        "colab": {
          "base_uri": "https://localhost:8080/"
        },
        "id": "IO5rkpuKMTTG",
        "outputId": "0264dc54-3c94-443b-b4ac-a7eb49701710"
      },
      "execution_count": 6,
      "outputs": [
        {
          "output_type": "stream",
          "name": "stdout",
          "text": [
            "05_random_numbers\n",
            "78\n",
            "68\n",
            "58\n",
            "56\n",
            "28\n",
            "34\n",
            "84\n",
            "86\n",
            "85\n",
            "44\n"
          ]
        }
      ]
    }
  ]
}