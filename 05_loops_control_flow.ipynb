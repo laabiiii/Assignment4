{
  "nbformat": 4,
  "nbformat_minor": 0,
  "metadata": {
    "colab": {
      "provenance": [],
      "authorship_tag": "ABX9TyMQM3wN1tvi3Da5eekN1XN7",
      "include_colab_link": true
    },
    "kernelspec": {
      "name": "python3",
      "display_name": "Python 3"
    },
    "language_info": {
      "name": "python"
    }
  },
  "cells": [
    {
      "cell_type": "markdown",
      "metadata": {
        "id": "view-in-github",
        "colab_type": "text"
      },
      "source": [
        "<a href=\"https://colab.research.google.com/github/laabiiii/Assignment4/blob/main/05_loops_control_flow.ipynb\" target=\"_parent\"><img src=\"https://colab.research.google.com/assets/colab-badge.svg\" alt=\"Open In Colab\"/></a>"
      ]
    },
    {
      "cell_type": "code",
      "execution_count": null,
      "metadata": {
        "colab": {
          "base_uri": "https://localhost:8080/"
        },
        "id": "HAq_ewzGT7Yp",
        "outputId": "b92e423d-a50f-4c79-a8e2-0712e3ff43ed"
      },
      "outputs": [
        {
          "output_type": "stream",
          "name": "stdout",
          "text": [
            "00_guess_my_number\n",
            "I'm thinking of a number between 1 and 100.\n",
            "Enter a guess: 78\n",
            "Your guess is too low\n",
            "Enter a guess: 44\n",
            "Your guess is too low\n",
            "Enter a guess: 79\n",
            "Your guess is too low\n",
            "Enter a guess: 45\n",
            "Your guess is too low\n",
            "Enter a guess: 65\n",
            "Your guess is too low\n"
          ]
        }
      ],
      "source": [
        "import random\n",
        "\n",
        "print(\"00_guess_my_number\")\n",
        "\n",
        "def main():\n",
        "  secret_number = random.randint(1,100)\n",
        "  print(\"I'm thinking of a number between 1 and 100.\")\n",
        "\n",
        "  guess = int(input(\"Enter a guess: \"))\n",
        "\n",
        "  while guess != secret_number:\n",
        "    if guess < secret_number:\n",
        "      print(\"Your guess is too low\")\n",
        "    else:\n",
        "      print(\"Your guess is too high\")\n",
        "    guess = int(input(\"Enter a guess: \"))\n",
        "\n",
        "  print(f'Congragulation!.The number was {secret_number}')\n",
        "\n",
        "\n",
        "if __name__ == \"__main__\":\n",
        "  main()"
      ]
    },
    {
      "cell_type": "code",
      "source": [
        "print(\"01_fibonacci\")\n",
        "\n",
        "max_value = 10000\n",
        "\n",
        "def main():\n",
        "  a,b = 0,1\n",
        "  print(a,b, end= \" \")\n",
        "\n",
        "  while True:\n",
        "   c = a+b\n",
        "   if c >= max_value:\n",
        "    break\n",
        "   print(c, end=\" \")\n",
        "   a,b  = b,c\n",
        "\n",
        "if __name__ == \"__main__\":\n",
        "  main()\n"
      ],
      "metadata": {
        "colab": {
          "base_uri": "https://localhost:8080/"
        },
        "id": "_OA0M6BcFfgz",
        "outputId": "cccbc9b6-b7d1-4958-b180-eddb9af13a5c"
      },
      "execution_count": 5,
      "outputs": [
        {
          "output_type": "stream",
          "name": "stdout",
          "text": [
            "01_fibonacci\n",
            "0 1 1 2 3 5 8 13 21 34 55 89 144 233 377 610 987 1597 2584 4181 6765 "
          ]
        }
      ]
    },
    {
      "cell_type": "code",
      "source": [
        "print(\"02_print_events\")\n",
        "\n",
        "def main():\n",
        "  for i in range(40):\n",
        "    print(i*2)\n",
        "\n",
        "if __name__ == \"__main__\":\n",
        "  main()"
      ],
      "metadata": {
        "colab": {
          "base_uri": "https://localhost:8080/"
        },
        "id": "ytWwVDrLKUlg",
        "outputId": "7160645d-2b47-4dc4-8da2-d55f3314338d"
      },
      "execution_count": 6,
      "outputs": [
        {
          "output_type": "stream",
          "name": "stdout",
          "text": [
            "02_print_events\n",
            "0\n",
            "2\n",
            "4\n",
            "6\n",
            "8\n",
            "10\n",
            "12\n",
            "14\n",
            "16\n",
            "18\n",
            "20\n",
            "22\n",
            "24\n",
            "26\n",
            "28\n",
            "30\n",
            "32\n",
            "34\n",
            "36\n",
            "38\n",
            "40\n",
            "42\n",
            "44\n",
            "46\n",
            "48\n",
            "50\n",
            "52\n",
            "54\n",
            "56\n",
            "58\n",
            "60\n",
            "62\n",
            "64\n",
            "66\n",
            "68\n",
            "70\n",
            "72\n",
            "74\n",
            "76\n",
            "78\n"
          ]
        }
      ]
    },
    {
      "cell_type": "code",
      "source": [
        "print(\"03_wholesome_machine\")\n",
        "\n",
        "correct_affirmation= \"I am capable of doing anything. I put my mind too\"\n",
        "\n",
        "def main():\n",
        "  print(\"Welcome to the Wholesome machine\")\n",
        "  while True:\n",
        "    user_input= input(\"Please type the following affirmation: \" + correct_affirmation)\n",
        "    if user_input == correct_affirmation:\n",
        "      print(\"Thats's right!\")\n",
        "      break\n",
        "    else:\n",
        "      print(\"That was not the affirmation. Please try again.\")\n",
        "\n",
        "if __name__ == \"__main__\":\n",
        "  main()"
      ],
      "metadata": {
        "colab": {
          "base_uri": "https://localhost:8080/"
        },
        "id": "SHsDDqK_LGiz",
        "outputId": "b0adf59d-6200-4263-ae4d-59e9798a589e"
      },
      "execution_count": 8,
      "outputs": [
        {
          "output_type": "stream",
          "name": "stdout",
          "text": [
            "03_wholesome_machine\n",
            "Welcome to the Wholesome machine\n",
            "Please type the following affirmation: I am capable of doing anything. I put my mind toook\n",
            "That was not the affirmation. Please try again.\n",
            "Please type the following affirmation: I am capable of doing anything. I put my mind tooi am capable of doing anything i put my mind too\n",
            "That was not the affirmation. Please try again.\n",
            "Please type the following affirmation: I am capable of doing anything. I put my mind tooI am capable of doing anything. I put my mind too\n",
            "Thats's right!\n"
          ]
        }
      ]
    },
    {
      "cell_type": "code",
      "source": [
        "print(\"04_liftoff\")\n",
        "\n",
        "def main():\n",
        "  for i in range(10,0, -1):\n",
        "   print(i,end= \" \")\n",
        "  print(\"liftoff\")\n",
        "\n",
        "if __name__ == \"__main__\":\n",
        "  main()"
      ],
      "metadata": {
        "colab": {
          "base_uri": "https://localhost:8080/"
        },
        "id": "SVrCguCsNyPv",
        "outputId": "0a9a71e0-a966-4cf9-f8bb-ce05b4c06d67"
      },
      "execution_count": 10,
      "outputs": [
        {
          "output_type": "stream",
          "name": "stdout",
          "text": [
            "04_liftoff\n",
            "10 9 8 7 6 5 4 3 2 1 liftoff\n"
          ]
        }
      ]
    },
    {
      "cell_type": "code",
      "source": [
        "print(\"05_double_it\")\n",
        "\n",
        "def main():\n",
        "  user_value= int(input(\"Enter a number\"))\n",
        "  while user_value < 100:\n",
        "    user_value = user_value * 2\n",
        "    print(user_value)\n",
        "\n",
        "if __name__ == \"__main__\":\n",
        "  main()"
      ],
      "metadata": {
        "colab": {
          "base_uri": "https://localhost:8080/"
        },
        "id": "3Oujtyb2OcDZ",
        "outputId": "435080ef-2103-475c-fee0-7c395a04dd60"
      },
      "execution_count": 13,
      "outputs": [
        {
          "output_type": "stream",
          "name": "stdout",
          "text": [
            "05_double_it\n",
            "Enter a number2\n",
            "4\n",
            "8\n",
            "16\n",
            "32\n",
            "64\n",
            "128\n"
          ]
        }
      ]
    }
  ]
}