{
  "nbformat": 4,
  "nbformat_minor": 0,
  "metadata": {
    "colab": {
      "provenance": [],
      "authorship_tag": "ABX9TyPQ6YONOH7iG5w0L0oJNRXc",
      "include_colab_link": true
    },
    "kernelspec": {
      "name": "python3",
      "display_name": "Python 3"
    },
    "language_info": {
      "name": "python"
    }
  },
  "cells": [
    {
      "cell_type": "markdown",
      "metadata": {
        "id": "view-in-github",
        "colab_type": "text"
      },
      "source": [
        "<a href=\"https://colab.research.google.com/github/laabiiii/Assignment4/blob/main/01_expressions.ipynb\" target=\"_parent\"><img src=\"https://colab.research.google.com/assets/colab-badge.svg\" alt=\"Open In Colab\"/></a>"
      ]
    },
    {
      "cell_type": "code",
      "execution_count": null,
      "metadata": {
        "colab": {
          "base_uri": "https://localhost:8080/"
        },
        "id": "zIlxzadq7kxF",
        "outputId": "79e9bbc2-8517-45c8-cf65-1ad3db4f7a6e"
      },
      "outputs": [
        {
          "output_type": "stream",
          "name": "stdout",
          "text": [
            "01_dicesimulator\n",
            "die1 in main() start as !-10\n",
            "Total of two dice: 10\n",
            "Total of two dice: 9\n",
            "Total of two dice: 10\n",
            "die1 in main() is: -10\n"
          ]
        }
      ],
      "source": [
        "import random\n",
        "print(\"01_dicesimulator\")\n",
        "\n",
        "def roll_dice():\n",
        "  die1: int = random.randint(1,6)\n",
        "  die2: int = random.randint(1,6)\n",
        "  total: int = die1 + die2\n",
        "  print(f'Total of two dice: {total}')\n",
        "\n",
        "def main():\n",
        "  die1: int = -10\n",
        "  print(\"die1 in main() start as !\" + str(die1))\n",
        "  roll_dice()\n",
        "  roll_dice()\n",
        "  roll_dice()\n",
        "  print(\"die1 in main() is: \" + str(die1))\n",
        "\n",
        "if __name__ == \"__main__\":\n",
        "  main()\n"
      ]
    },
    {
      "cell_type": "code",
      "source": [
        "print(\"02_e=mc2\")\n",
        "\n",
        "def energy():\n",
        "   C:float = 299792458\n",
        "   m:float = float(input(\"Enter kilos of mass: \"))\n",
        "   print(\"e = m * C^2\")\n",
        "   print(\"mass - \" + str(m)+ \"kg\")\n",
        "   print(\"C - \"+ str(C)+\"m/s\")\n",
        "   print(\"e - \" + str(m*C**2)+ \"jules\")\n",
        "\n",
        "if __name__ == \"__main__\":\n",
        "    energy()"
      ],
      "metadata": {
        "id": "5Diat3tZyCGr",
        "colab": {
          "base_uri": "https://localhost:8080/"
        },
        "outputId": "ae15bbe4-a906-4e49-b426-719eea8df1d1"
      },
      "execution_count": null,
      "outputs": [
        {
          "output_type": "stream",
          "name": "stdout",
          "text": [
            "02_e=mc2\n",
            "Enter kilos of mass: 111\n",
            "e = m * C^2\n",
            "mass - 111.0kg\n",
            "C - 299792458m/s\n",
            "e - 9.976182483978676e+18jules\n"
          ]
        }
      ]
    },
    {
      "cell_type": "code",
      "source": [
        "print(\"03_feet_to_inches\")\n",
        "\n",
        "inch: int = 12\n",
        "def foot():\n",
        "  feet:int= int(input(\"Enter feet and i will convert it into inches. \"))\n",
        "  print(f'There are {inch * feet} inches in {feet}feet')\n",
        "\n",
        "if __name__ == \"__main__\":\n",
        "  foot()"
      ],
      "metadata": {
        "colab": {
          "base_uri": "https://localhost:8080/"
        },
        "id": "-lR4QZoI83wk",
        "outputId": "65aa7636-7439-4a5d-ded0-5443b7f8fd0d"
      },
      "execution_count": null,
      "outputs": [
        {
          "output_type": "stream",
          "name": "stdout",
          "text": [
            "03_feet_to_inches\n",
            "Enter feet and i will convert it into inches. 11\n",
            "There are 132 inches in 11feet\n"
          ]
        }
      ]
    },
    {
      "cell_type": "code",
      "source": [
        "import math\n",
        "print(\"04_pythagorean_theorem\")\n",
        "\n",
        "def triangle():\n",
        "  ab:float = float(input(\"Enter the length of the side of ab: \"))\n",
        "  ac:float =float(input(\"Enter the lenggth of the side of ac: \"))\n",
        "  bc:float = math.sqrt(ab**2 + ac**2)\n",
        "  print(f'The length of bc (The Pythagorean is: {bc}')\n",
        "\n",
        "if __name__ == \"__main__\":\n",
        "  triangle()"
      ],
      "metadata": {
        "colab": {
          "base_uri": "https://localhost:8080/"
        },
        "id": "nS7SaaD2-JKs",
        "outputId": "15102421-a845-4565-e151-6e7689ecf917"
      },
      "execution_count": null,
      "outputs": [
        {
          "output_type": "stream",
          "name": "stdout",
          "text": [
            "04_pythagorean_theorem\n",
            "Enter the length of the side of ab: 222\n",
            "Enter the lenggth of the side of ac: 77\n",
            "The length of bc (The Pythagorean is :234.97446669797975\n"
          ]
        }
      ]
    },
    {
      "cell_type": "code",
      "source": [
        "print(\"05_remainder_division\")\n",
        "\n",
        "def reminder():\n",
        "    num1 = int(input(\"Enter the first integer: \"))  # Convert input to int\n",
        "    num2 = int(input(\"Enter the integer to divide by: \"))  # Convert input to int\n",
        "\n",
        "    quotient = num1 // num2  # Integer division\n",
        "    remainder = num1 % num2  # Modulus operation\n",
        "\n",
        "    print(f'The result of this division is: {quotient} with a remainder of {remainder}')\n",
        "\n",
        "if __name__ == \"__main__\":\n",
        "    reminder()\n"
      ],
      "metadata": {
        "id": "3c707VaMCL_o",
        "colab": {
          "base_uri": "https://localhost:8080/"
        },
        "outputId": "afec2e42-532a-47d9-b939-f01f63e55fb1"
      },
      "execution_count": 10,
      "outputs": [
        {
          "output_type": "stream",
          "name": "stdout",
          "text": [
            "05_remainder_division\n",
            "Enter the first integer: 56\n",
            "Enter the integer to divide by: 3\n",
            "The result of this division is: 18 with a remainder of 2\n"
          ]
        }
      ]
    },
    {
      "cell_type": "code",
      "source": [
        "import random\n",
        "print(\"06_rolldice\")\n",
        "\n",
        "def roll_dice():\n",
        "  die1: int= random.randint(1,6)\n",
        "  die2: int= random.randint(1,6)\n",
        "  total: int= int(die1 + die2)\n",
        "  print(\"First die:\" + str(die1))\n",
        "  print(\"Second die:\" + str(die2))\n",
        "  print(f'Total of two dice: {total}')\n",
        "\n",
        "if __name__ == \"__main__\":\n",
        "  roll_dice()"
      ],
      "metadata": {
        "colab": {
          "base_uri": "https://localhost:8080/"
        },
        "id": "KJsCdLeDuw87",
        "outputId": "459ca456-fa0e-4f73-b3cd-d85cb11a47ba"
      },
      "execution_count": 16,
      "outputs": [
        {
          "output_type": "stream",
          "name": "stdout",
          "text": [
            "06_rolldice\n",
            "First die:3\n",
            "Second die:1\n",
            "Total of two dice: 4\n"
          ]
        }
      ]
    },
    {
      "cell_type": "code",
      "source": [
        "print(\"06_seconds_in_year\")\n",
        "\n",
        "days_in_year: int = 365\n",
        "hours_in_day: int = 24\n",
        "minutes_in_hour: int = 60\n",
        "seconds_in_minute: int = 60\n",
        "\n",
        "def seconds():\n",
        "  print(f'There are {days_in_year * hours_in_day * minutes_in_hour * seconds_in_minute}seconds in a year')\n",
        "\n",
        "if __name__ == \"__main__\":\n",
        "  seconds()"
      ],
      "metadata": {
        "colab": {
          "base_uri": "https://localhost:8080/"
        },
        "id": "O4_gLIS-xqKx",
        "outputId": "22839acc-ad70-42a1-955d-adfad86aa6f3"
      },
      "execution_count": 17,
      "outputs": [
        {
          "output_type": "stream",
          "name": "stdout",
          "text": [
            "06_seconds_in_year\n",
            "There are 31536000seconds in a year\n"
          ]
        }
      ]
    },
    {
      "cell_type": "code",
      "source": [
        "print(\"07_tiny_mad_lib\")\n",
        "\n",
        "def mad_lib():\n",
        "  noun: str = input(\"Enter a noun: \")\n",
        "  adjective: str = input(\"Enter an adjective: \")\n",
        "  verb: str = input(\"Enter a verb: \")\n",
        "  print(f'Do you {verb} your {adjective} {noun} ?')\n",
        "\n",
        "if __name__ == \"__main__\":\n",
        "  mad_lib()"
      ],
      "metadata": {
        "colab": {
          "base_uri": "https://localhost:8080/"
        },
        "id": "gE0wkinc0DQJ",
        "outputId": "a782902c-e508-4914-ef5d-74120b70f179"
      },
      "execution_count": 19,
      "outputs": [
        {
          "output_type": "stream",
          "name": "stdout",
          "text": [
            "07_tiny_mad_lib\n",
            "Enter a noun: cat\n",
            "Enter an adjective: bell\n",
            "Enter a verb: sound\n",
            "Do you sound your bell cat ?\n"
          ]
        }
      ]
    }
  ]
}